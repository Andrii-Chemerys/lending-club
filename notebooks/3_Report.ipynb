{
 "cells": [
  {
   "cell_type": "markdown",
   "metadata": {},
   "source": [
    "# REPORT\n",
    "\n",
    "## 1. Methodology, approach and model selection rational\n",
    "\n",
    "Lending club dataset contains two types of information: the one that was available after loan application submission and the one that was collected after the date of loan issue. As our goal is to make decision on loan issue based on forecast on default status, first thing I did was to identify those features on our dataset, that might be available before loan was issued.\n",
    "\n",
    "As long as we have 2 types of applications: individual and joint application  \n",
    "\n",
    "## 2. Advantages and limitations of the chosen model\n",
    "\n",
    "## 3. Architecture and final solution\n",
    "\n",
    "## 4. Considerations on deployment and scalability of the solution \n",
    "How will the model be used in BAU by the business\n",
    "\n",
    "## 5. Estimated impact\n"
   ]
  }
 ],
 "metadata": {
  "kernelspec": {
   "display_name": "lc",
   "language": "python",
   "name": "python3"
  },
  "language_info": {
   "codemirror_mode": {
    "name": "ipython",
    "version": 3
   },
   "file_extension": ".py",
   "mimetype": "text/x-python",
   "name": "python",
   "nbconvert_exporter": "python",
   "pygments_lexer": "ipython3",
   "version": "3.10.15"
  }
 },
 "nbformat": 4,
 "nbformat_minor": 2
}
