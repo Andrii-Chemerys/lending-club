{
 "cells": [
  {
   "cell_type": "markdown",
   "metadata": {},
   "source": [
    "# REPORT\n",
    "\n",
    "## 1. Methodology, approach and model selection rational\n",
    "\n",
    "\n",
    "\n",
    "## 2. Advantages and limitations of the chosen model\n",
    "\n",
    "## 3. Architecture and final solution\n",
    "\n",
    "## 4. Considerations on deployment and scalability of the solution \n",
    "How will the model be used in BAU by the business\n",
    "\n",
    "## 5. Estimated impact\n"
   ]
  },
  {
   "cell_type": "markdown",
   "metadata": {},
   "source": []
  }
 ],
 "metadata": {
  "language_info": {
   "name": "python"
  }
 },
 "nbformat": 4,
 "nbformat_minor": 2
}
